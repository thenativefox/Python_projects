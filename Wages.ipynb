{
 "cells": [
  {
   "cell_type": "markdown",
   "metadata": {},
   "source": [
    "                        Анализ факторов, оказывающих влияние на заработную плату на рынке труда в России"
   ]
  },
  {
   "cell_type": "markdown",
   "metadata": {},
   "source": [
    "Доказано, что на формирование заработной платы оказывают влияние большое количество различных факторов. Помимо достаточно очевидных факторов таких, как образование, предыдущий опыт работы, количество отработанных часов, на заработок также могут влиять и индивидуальные характеристики трудящегося, например, пол, возраст, национальная принадлежность. Это, в свою очередь, может привести к неравному положению людей на рынке труда, другими словами, к дискриминации.\n",
    "В этом проекте наша основная задача - оценить, какие факторы оказывают значимое влияние на заработную плату и с какими трудностями сталкиваются люди на рынке труда в России в 2016 году. "
   ]
  },
  {
   "cell_type": "markdown",
   "metadata": {},
   "source": [
    "На первом этапе скачаем и подкючим необходимые нам бибилиотеки."
   ]
  },
  {
   "cell_type": "code",
   "execution_count": 1,
   "metadata": {},
   "outputs": [],
   "source": [
    "import pandas as pd\n",
    "import numpy as np\n",
    "import math \n",
    "import matplotlib.pyplot as plt\n",
    "import scipy.optimize as opt\n",
    "import numpy.polynomial.polynomial as poly\n",
    "%matplotlib inline\n",
    "np.set_printoptions(suppress=True) #чтобы оценки были более наглядные"
   ]
  },
  {
   "cell_type": "markdown",
   "metadata": {},
   "source": [
    "Теперь скачаем данные, представленные НИУ ВШЭ https://www.hse.ru/rlms/ за 2016 год, преобразуем их и представим описательную статистику датасета. "
   ]
  },
  {
   "cell_type": "code",
   "execution_count": 2,
   "metadata": {},
   "outputs": [],
   "source": [
    "dataframe = pd.read_stata('r25i_os26с.dta', convert_categoricals=False)"
   ]
  },
  {
   "cell_type": "code",
   "execution_count": 3,
   "metadata": {
    "scrolled": true
   },
   "outputs": [
    {
     "data": {
      "text/html": [
       "<div>\n",
       "<style scoped>\n",
       "    .dataframe tbody tr th:only-of-type {\n",
       "        vertical-align: middle;\n",
       "    }\n",
       "\n",
       "    .dataframe tbody tr th {\n",
       "        vertical-align: top;\n",
       "    }\n",
       "\n",
       "    .dataframe thead th {\n",
       "        text-align: right;\n",
       "    }\n",
       "</style>\n",
       "<table border=\"1\" class=\"dataframe\">\n",
       "  <thead>\n",
       "    <tr style=\"text-align: right;\">\n",
       "      <th></th>\n",
       "      <th>idind</th>\n",
       "      <th>uredid_i</th>\n",
       "      <th>uid_i</th>\n",
       "      <th>uid_h</th>\n",
       "      <th>tid_i</th>\n",
       "      <th>tid_h</th>\n",
       "      <th>sid_i</th>\n",
       "      <th>sid_h</th>\n",
       "      <th>rid_i</th>\n",
       "      <th>rid_h</th>\n",
       "      <th>...</th>\n",
       "      <th>um101</th>\n",
       "      <th>um102</th>\n",
       "      <th>um103</th>\n",
       "      <th>um104</th>\n",
       "      <th>um105</th>\n",
       "      <th>um106</th>\n",
       "      <th>um107</th>\n",
       "      <th>um108</th>\n",
       "      <th>um109</th>\n",
       "      <th>um111</th>\n",
       "    </tr>\n",
       "  </thead>\n",
       "  <tbody>\n",
       "    <tr>\n",
       "      <td>0</td>\n",
       "      <td>3.0</td>\n",
       "      <td>146901.0</td>\n",
       "      <td>1001201.0</td>\n",
       "      <td>10012.0</td>\n",
       "      <td>1001201.0</td>\n",
       "      <td>10012.0</td>\n",
       "      <td>1001201.0</td>\n",
       "      <td>10012.0</td>\n",
       "      <td>1001201.0</td>\n",
       "      <td>10012.0</td>\n",
       "      <td>...</td>\n",
       "      <td>NaN</td>\n",
       "      <td>NaN</td>\n",
       "      <td>NaN</td>\n",
       "      <td>NaN</td>\n",
       "      <td>NaN</td>\n",
       "      <td>NaN</td>\n",
       "      <td>NaN</td>\n",
       "      <td>NaN</td>\n",
       "      <td>NaN</td>\n",
       "      <td>NaN</td>\n",
       "    </tr>\n",
       "    <tr>\n",
       "      <td>1</td>\n",
       "      <td>7.0</td>\n",
       "      <td>147101.0</td>\n",
       "      <td>1000301.0</td>\n",
       "      <td>10003.0</td>\n",
       "      <td>1000301.0</td>\n",
       "      <td>10003.0</td>\n",
       "      <td>1000301.0</td>\n",
       "      <td>10003.0</td>\n",
       "      <td>1000301.0</td>\n",
       "      <td>10003.0</td>\n",
       "      <td>...</td>\n",
       "      <td>NaN</td>\n",
       "      <td>NaN</td>\n",
       "      <td>NaN</td>\n",
       "      <td>NaN</td>\n",
       "      <td>NaN</td>\n",
       "      <td>NaN</td>\n",
       "      <td>NaN</td>\n",
       "      <td>NaN</td>\n",
       "      <td>NaN</td>\n",
       "      <td>NaN</td>\n",
       "    </tr>\n",
       "    <tr>\n",
       "      <td>2</td>\n",
       "      <td>9.0</td>\n",
       "      <td>146801.0</td>\n",
       "      <td>1000401.0</td>\n",
       "      <td>10004.0</td>\n",
       "      <td>1000401.0</td>\n",
       "      <td>10004.0</td>\n",
       "      <td>1000401.0</td>\n",
       "      <td>10004.0</td>\n",
       "      <td>1000401.0</td>\n",
       "      <td>10004.0</td>\n",
       "      <td>...</td>\n",
       "      <td>NaN</td>\n",
       "      <td>NaN</td>\n",
       "      <td>NaN</td>\n",
       "      <td>NaN</td>\n",
       "      <td>NaN</td>\n",
       "      <td>NaN</td>\n",
       "      <td>NaN</td>\n",
       "      <td>NaN</td>\n",
       "      <td>NaN</td>\n",
       "      <td>NaN</td>\n",
       "    </tr>\n",
       "    <tr>\n",
       "      <td>3</td>\n",
       "      <td>36.0</td>\n",
       "      <td>145501.0</td>\n",
       "      <td>1002401.0</td>\n",
       "      <td>10024.0</td>\n",
       "      <td>1002401.0</td>\n",
       "      <td>10024.0</td>\n",
       "      <td>1002401.0</td>\n",
       "      <td>10024.0</td>\n",
       "      <td>1002401.0</td>\n",
       "      <td>10024.0</td>\n",
       "      <td>...</td>\n",
       "      <td>NaN</td>\n",
       "      <td>NaN</td>\n",
       "      <td>NaN</td>\n",
       "      <td>NaN</td>\n",
       "      <td>NaN</td>\n",
       "      <td>NaN</td>\n",
       "      <td>NaN</td>\n",
       "      <td>NaN</td>\n",
       "      <td>NaN</td>\n",
       "      <td>NaN</td>\n",
       "    </tr>\n",
       "    <tr>\n",
       "      <td>4</td>\n",
       "      <td>37.0</td>\n",
       "      <td>145502.0</td>\n",
       "      <td>1002402.0</td>\n",
       "      <td>10024.0</td>\n",
       "      <td>1002402.0</td>\n",
       "      <td>10024.0</td>\n",
       "      <td>1002402.0</td>\n",
       "      <td>10024.0</td>\n",
       "      <td>1002402.0</td>\n",
       "      <td>10024.0</td>\n",
       "      <td>...</td>\n",
       "      <td>NaN</td>\n",
       "      <td>NaN</td>\n",
       "      <td>NaN</td>\n",
       "      <td>NaN</td>\n",
       "      <td>NaN</td>\n",
       "      <td>NaN</td>\n",
       "      <td>NaN</td>\n",
       "      <td>NaN</td>\n",
       "      <td>NaN</td>\n",
       "      <td>NaN</td>\n",
       "    </tr>\n",
       "  </tbody>\n",
       "</table>\n",
       "<p>5 rows × 863 columns</p>\n",
       "</div>"
      ],
      "text/plain": [
       "   idind  uredid_i      uid_i    uid_h      tid_i    tid_h      sid_i  \\\n",
       "0    3.0  146901.0  1001201.0  10012.0  1001201.0  10012.0  1001201.0   \n",
       "1    7.0  147101.0  1000301.0  10003.0  1000301.0  10003.0  1000301.0   \n",
       "2    9.0  146801.0  1000401.0  10004.0  1000401.0  10004.0  1000401.0   \n",
       "3   36.0  145501.0  1002401.0  10024.0  1002401.0  10024.0  1002401.0   \n",
       "4   37.0  145502.0  1002402.0  10024.0  1002402.0  10024.0  1002402.0   \n",
       "\n",
       "     sid_h      rid_i    rid_h  ...  um101  um102  um103  um104  um105  um106  \\\n",
       "0  10012.0  1001201.0  10012.0  ...    NaN    NaN    NaN    NaN    NaN    NaN   \n",
       "1  10003.0  1000301.0  10003.0  ...    NaN    NaN    NaN    NaN    NaN    NaN   \n",
       "2  10004.0  1000401.0  10004.0  ...    NaN    NaN    NaN    NaN    NaN    NaN   \n",
       "3  10024.0  1002401.0  10024.0  ...    NaN    NaN    NaN    NaN    NaN    NaN   \n",
       "4  10024.0  1002402.0  10024.0  ...    NaN    NaN    NaN    NaN    NaN    NaN   \n",
       "\n",
       "   um107  um108  um109  um111  \n",
       "0    NaN    NaN    NaN    NaN  \n",
       "1    NaN    NaN    NaN    NaN  \n",
       "2    NaN    NaN    NaN    NaN  \n",
       "3    NaN    NaN    NaN    NaN  \n",
       "4    NaN    NaN    NaN    NaN  \n",
       "\n",
       "[5 rows x 863 columns]"
      ]
     },
     "execution_count": 3,
     "metadata": {},
     "output_type": "execute_result"
    }
   ],
   "source": [
    "dataframe.head()"
   ]
  },
  {
   "cell_type": "code",
   "execution_count": 4,
   "metadata": {},
   "outputs": [],
   "source": [
    "columns_to_keep = [\"u_age\",\"uj13_2\",\"uh5\",\"ui4\",\"u_diplom\",\"uj6_2\",\"status\",\"um3\",\"uj161_3y\"] \n",
    "#как мы видим, в превоначальном датасете у нас 863 колонки, но нам необходимо всего несколько факторов, которые мы будет оценивать"
   ]
  },
  {
   "cell_type": "code",
   "execution_count": 5,
   "metadata": {},
   "outputs": [],
   "source": [
    "df = pd.read_stata('r25i_os26с.dta', convert_categoricals=False, columns = columns_to_keep)"
   ]
  },
  {
   "cell_type": "code",
   "execution_count": 6,
   "metadata": {},
   "outputs": [
    {
     "data": {
      "text/html": [
       "<div>\n",
       "<style scoped>\n",
       "    .dataframe tbody tr th:only-of-type {\n",
       "        vertical-align: middle;\n",
       "    }\n",
       "\n",
       "    .dataframe tbody tr th {\n",
       "        vertical-align: top;\n",
       "    }\n",
       "\n",
       "    .dataframe thead th {\n",
       "        text-align: right;\n",
       "    }\n",
       "</style>\n",
       "<table border=\"1\" class=\"dataframe\">\n",
       "  <thead>\n",
       "    <tr style=\"text-align: right;\">\n",
       "      <th></th>\n",
       "      <th>u_age</th>\n",
       "      <th>uj13_2</th>\n",
       "      <th>uh5</th>\n",
       "      <th>ui4</th>\n",
       "      <th>u_diplom</th>\n",
       "      <th>uj6_2</th>\n",
       "      <th>status</th>\n",
       "      <th>um3</th>\n",
       "      <th>uj161_3y</th>\n",
       "    </tr>\n",
       "  </thead>\n",
       "  <tbody>\n",
       "    <tr>\n",
       "      <td>0</td>\n",
       "      <td>61.0</td>\n",
       "      <td>28000.0</td>\n",
       "      <td>2.0</td>\n",
       "      <td>1.0</td>\n",
       "      <td>4.0</td>\n",
       "      <td>48.0</td>\n",
       "      <td>3.0</td>\n",
       "      <td>3.0</td>\n",
       "      <td>42.0</td>\n",
       "    </tr>\n",
       "    <tr>\n",
       "      <td>1</td>\n",
       "      <td>72.0</td>\n",
       "      <td>NaN</td>\n",
       "      <td>2.0</td>\n",
       "      <td>1.0</td>\n",
       "      <td>2.0</td>\n",
       "      <td>NaN</td>\n",
       "      <td>3.0</td>\n",
       "      <td>3.0</td>\n",
       "      <td>40.0</td>\n",
       "    </tr>\n",
       "    <tr>\n",
       "      <td>2</td>\n",
       "      <td>70.0</td>\n",
       "      <td>NaN</td>\n",
       "      <td>2.0</td>\n",
       "      <td>1.0</td>\n",
       "      <td>5.0</td>\n",
       "      <td>NaN</td>\n",
       "      <td>3.0</td>\n",
       "      <td>3.0</td>\n",
       "      <td>44.0</td>\n",
       "    </tr>\n",
       "    <tr>\n",
       "      <td>3</td>\n",
       "      <td>62.0</td>\n",
       "      <td>NaN</td>\n",
       "      <td>2.0</td>\n",
       "      <td>1.0</td>\n",
       "      <td>2.0</td>\n",
       "      <td>NaN</td>\n",
       "      <td>3.0</td>\n",
       "      <td>3.0</td>\n",
       "      <td>34.0</td>\n",
       "    </tr>\n",
       "    <tr>\n",
       "      <td>4</td>\n",
       "      <td>59.0</td>\n",
       "      <td>21000.0</td>\n",
       "      <td>1.0</td>\n",
       "      <td>1.0</td>\n",
       "      <td>4.0</td>\n",
       "      <td>48.0</td>\n",
       "      <td>3.0</td>\n",
       "      <td>3.0</td>\n",
       "      <td>34.0</td>\n",
       "    </tr>\n",
       "  </tbody>\n",
       "</table>\n",
       "</div>"
      ],
      "text/plain": [
       "   u_age   uj13_2  uh5  ui4  u_diplom  uj6_2  status  um3  uj161_3y\n",
       "0   61.0  28000.0  2.0  1.0       4.0   48.0     3.0  3.0      42.0\n",
       "1   72.0      NaN  2.0  1.0       2.0    NaN     3.0  3.0      40.0\n",
       "2   70.0      NaN  2.0  1.0       5.0    NaN     3.0  3.0      44.0\n",
       "3   62.0      NaN  2.0  1.0       2.0    NaN     3.0  3.0      34.0\n",
       "4   59.0  21000.0  1.0  1.0       4.0   48.0     3.0  3.0      34.0"
      ]
     },
     "execution_count": 6,
     "metadata": {},
     "output_type": "execute_result"
    }
   ],
   "source": [
    "df.head()"
   ]
  },
  {
   "cell_type": "code",
   "execution_count": 7,
   "metadata": {},
   "outputs": [
    {
     "name": "stdout",
     "output_type": "stream",
     "text": [
      "        age   salary  gender  nationality  diploma  work_week  status  health  \\\n",
      "0      61.0  28000.0     2.0          1.0      4.0       48.0     3.0     3.0   \n",
      "1      72.0      NaN     2.0          1.0      2.0        NaN     3.0     3.0   \n",
      "2      70.0      NaN     2.0          1.0      5.0        NaN     3.0     3.0   \n",
      "3      62.0      NaN     2.0          1.0      2.0        NaN     3.0     3.0   \n",
      "4      59.0  21000.0     1.0          1.0      4.0       48.0     3.0     3.0   \n",
      "...     ...      ...     ...          ...      ...        ...     ...     ...   \n",
      "12549   7.0      NaN     2.0          NaN      NaN        NaN     4.0     2.0   \n",
      "12550  47.0  12000.0     2.0          1.0      4.0       10.0     4.0     3.0   \n",
      "12551   9.0      NaN     2.0          NaN      NaN        NaN     4.0     2.0   \n",
      "12552   1.0      NaN     1.0          NaN      NaN        NaN     4.0     2.0   \n",
      "12553   0.0      NaN     1.0          NaN      NaN        NaN     4.0     3.0   \n",
      "\n",
      "       experience  \n",
      "0            42.0  \n",
      "1            40.0  \n",
      "2            44.0  \n",
      "3            34.0  \n",
      "4            34.0  \n",
      "...           ...  \n",
      "12549         NaN  \n",
      "12550        18.0  \n",
      "12551         NaN  \n",
      "12552         NaN  \n",
      "12553         NaN  \n",
      "\n",
      "[12554 rows x 9 columns]\n"
     ]
    }
   ],
   "source": [
    "df.rename(columns={'u_age': 'age', 'uj13_2': 'salary', 'uh5': 'gender', 'uj6_2': 'work_week', 'uj161_3y': 'experience', 'u_diplom': 'diploma', 'ui4': 'nationality', 'um3': 'health'}, inplace=True)\n",
    "print(df)"
   ]
  },
  {
   "cell_type": "code",
   "execution_count": 8,
   "metadata": {
    "scrolled": true
   },
   "outputs": [
    {
     "data": {
      "text/html": [
       "<div>\n",
       "<style scoped>\n",
       "    .dataframe tbody tr th:only-of-type {\n",
       "        vertical-align: middle;\n",
       "    }\n",
       "\n",
       "    .dataframe tbody tr th {\n",
       "        vertical-align: top;\n",
       "    }\n",
       "\n",
       "    .dataframe thead th {\n",
       "        text-align: right;\n",
       "    }\n",
       "</style>\n",
       "<table border=\"1\" class=\"dataframe\">\n",
       "  <thead>\n",
       "    <tr style=\"text-align: right;\">\n",
       "      <th></th>\n",
       "      <th>age</th>\n",
       "      <th>salary</th>\n",
       "      <th>gender</th>\n",
       "      <th>nationality</th>\n",
       "      <th>diploma</th>\n",
       "      <th>work_week</th>\n",
       "      <th>status</th>\n",
       "      <th>health</th>\n",
       "      <th>experience</th>\n",
       "    </tr>\n",
       "  </thead>\n",
       "  <tbody>\n",
       "    <tr>\n",
       "      <td>0</td>\n",
       "      <td>61.0</td>\n",
       "      <td>28000.0</td>\n",
       "      <td>2.0</td>\n",
       "      <td>1.0</td>\n",
       "      <td>4.0</td>\n",
       "      <td>48.0</td>\n",
       "      <td>3.0</td>\n",
       "      <td>3.0</td>\n",
       "      <td>42.0</td>\n",
       "    </tr>\n",
       "    <tr>\n",
       "      <td>1</td>\n",
       "      <td>72.0</td>\n",
       "      <td>NaN</td>\n",
       "      <td>2.0</td>\n",
       "      <td>1.0</td>\n",
       "      <td>2.0</td>\n",
       "      <td>NaN</td>\n",
       "      <td>3.0</td>\n",
       "      <td>3.0</td>\n",
       "      <td>40.0</td>\n",
       "    </tr>\n",
       "    <tr>\n",
       "      <td>2</td>\n",
       "      <td>70.0</td>\n",
       "      <td>NaN</td>\n",
       "      <td>2.0</td>\n",
       "      <td>1.0</td>\n",
       "      <td>5.0</td>\n",
       "      <td>NaN</td>\n",
       "      <td>3.0</td>\n",
       "      <td>3.0</td>\n",
       "      <td>44.0</td>\n",
       "    </tr>\n",
       "    <tr>\n",
       "      <td>3</td>\n",
       "      <td>62.0</td>\n",
       "      <td>NaN</td>\n",
       "      <td>2.0</td>\n",
       "      <td>1.0</td>\n",
       "      <td>2.0</td>\n",
       "      <td>NaN</td>\n",
       "      <td>3.0</td>\n",
       "      <td>3.0</td>\n",
       "      <td>34.0</td>\n",
       "    </tr>\n",
       "    <tr>\n",
       "      <td>4</td>\n",
       "      <td>59.0</td>\n",
       "      <td>21000.0</td>\n",
       "      <td>1.0</td>\n",
       "      <td>1.0</td>\n",
       "      <td>4.0</td>\n",
       "      <td>48.0</td>\n",
       "      <td>3.0</td>\n",
       "      <td>3.0</td>\n",
       "      <td>34.0</td>\n",
       "    </tr>\n",
       "  </tbody>\n",
       "</table>\n",
       "</div>"
      ],
      "text/plain": [
       "    age   salary  gender  nationality  diploma  work_week  status  health  \\\n",
       "0  61.0  28000.0     2.0          1.0      4.0       48.0     3.0     3.0   \n",
       "1  72.0      NaN     2.0          1.0      2.0        NaN     3.0     3.0   \n",
       "2  70.0      NaN     2.0          1.0      5.0        NaN     3.0     3.0   \n",
       "3  62.0      NaN     2.0          1.0      2.0        NaN     3.0     3.0   \n",
       "4  59.0  21000.0     1.0          1.0      4.0       48.0     3.0     3.0   \n",
       "\n",
       "   experience  \n",
       "0        42.0  \n",
       "1        40.0  \n",
       "2        44.0  \n",
       "3        34.0  \n",
       "4        34.0  "
      ]
     },
     "execution_count": 8,
     "metadata": {},
     "output_type": "execute_result"
    }
   ],
   "source": [
    "#для удобства переименовали переменные\n",
    "df.head()"
   ]
  },
  {
   "cell_type": "code",
   "execution_count": 9,
   "metadata": {},
   "outputs": [],
   "source": [
    "#удалим следующие ответы респондентов: \"не знаю\", \"затрудняюсь ответить\" и т.д. \n",
    "df = df[(-df.age.isin([\"99999997\",\"99999998\",\"99999999\"]))]\n",
    "df = df[(-df.salary.isin([\"99999997\",\"99999998\",\"99999999\",\"0\"]))]\n",
    "df = df[(-df.gender.isin([\"99999997\",\"99999998\",\"99999999\"]))]\n",
    "df = df[(-df.nationality.isin([\"99999997\",\"99999998\",\"99999999\"]))]\n",
    "df = df[(-df.diploma.isin([\"99999997\",\"99999998\",\"99999999\"]))]\n",
    "df = df[(-df.work_week.isin([\"99999997\",\"99999998\",\"99999999\"]))]\n",
    "df = df[(-df.status.isin([\"99999997\",\"99999998\",\"99999999\"]))]\n",
    "df = df[(-df.health.isin([\"99999997\",\"99999998\",\"99999999\"]))]\n",
    "df = df[(-df.experience.isin([\"99999996\",\"99999997\",\"99999998\",\"99999999\"]))]"
   ]
  },
  {
   "cell_type": "code",
   "execution_count": 10,
   "metadata": {},
   "outputs": [
    {
     "name": "stdout",
     "output_type": "stream",
     "text": [
      "        age   salary  gender  nationality  diploma  work_week  status  health  \\\n",
      "0      61.0  28000.0     2.0          1.0      4.0       48.0     3.0     3.0   \n",
      "1      72.0      NaN     2.0          1.0      2.0        NaN     3.0     3.0   \n",
      "2      70.0      NaN     2.0          1.0      5.0        NaN     3.0     3.0   \n",
      "3      62.0      NaN     2.0          1.0      2.0        NaN     3.0     3.0   \n",
      "4      59.0  21000.0     1.0          1.0      4.0       48.0     3.0     3.0   \n",
      "...     ...      ...     ...          ...      ...        ...     ...     ...   \n",
      "12549   7.0      NaN     2.0          NaN      NaN        NaN     4.0     2.0   \n",
      "12550  47.0  12000.0     2.0          1.0      4.0       10.0     4.0     3.0   \n",
      "12551   9.0      NaN     2.0          NaN      NaN        NaN     4.0     2.0   \n",
      "12552   1.0      NaN     1.0          NaN      NaN        NaN     4.0     2.0   \n",
      "12553   0.0      NaN     1.0          NaN      NaN        NaN     4.0     3.0   \n",
      "\n",
      "       experience  \n",
      "0            42.0  \n",
      "1            40.0  \n",
      "2            44.0  \n",
      "3            34.0  \n",
      "4            34.0  \n",
      "...           ...  \n",
      "12549         NaN  \n",
      "12550        18.0  \n",
      "12551         NaN  \n",
      "12552         NaN  \n",
      "12553         NaN  \n",
      "\n",
      "[11204 rows x 9 columns]\n"
     ]
    }
   ],
   "source": [
    "print(df)"
   ]
  },
  {
   "cell_type": "code",
   "execution_count": 11,
   "metadata": {},
   "outputs": [],
   "source": [
    "#добавим бинарные переменные\n",
    "#Russian = 1, если респондент принадлежит русской национальности, school = 1, если он закончил школу и так далее.\n",
    "df['Russian'] = np.where(df['nationality'] == 1, 1 ,0)\n",
    "df['school'] = np.where(df['diploma'] == 4, 1 ,0)\n",
    "df['college'] = np.where(df['diploma'] == 5, 1 ,0)\n",
    "df['university'] = np.where(df['diploma'] == 6, 1 ,0)\n",
    "df['town'] = np.where(df['status'] == 1, 1, np.where(df['status'] == 2, 1 ,0))\n",
    "df['good_health'] = np.where(df['health'] == 1, 1 , np.where(df['health'] == 2, 1 ,0))\n",
    "df['male'] = np.where(df['gender'] == 1, 1 ,0)"
   ]
  },
  {
   "cell_type": "code",
   "execution_count": 12,
   "metadata": {},
   "outputs": [],
   "source": [
    "#удалим строчки, в которых есть хотя бы 1 значение NA и восстановим индексацию\n",
    "df = df.dropna()\n",
    "df = df.reset_index()"
   ]
  },
  {
   "cell_type": "code",
   "execution_count": 13,
   "metadata": {},
   "outputs": [
    {
     "name": "stdout",
     "output_type": "stream",
     "text": [
      "      index   age   salary  gender  nationality  diploma  work_week  status  \\\n",
      "0         0  61.0  28000.0     2.0          1.0      4.0       48.0     3.0   \n",
      "1         4  59.0  21000.0     1.0          1.0      4.0       48.0     3.0   \n",
      "2         5  33.0  40000.0     2.0          1.0      4.0       40.0     3.0   \n",
      "3         6  48.0  15000.0     2.0          1.0      4.0       40.0     3.0   \n",
      "4         8  62.0   9000.0     1.0          1.0      4.0       70.0     4.0   \n",
      "...     ...   ...      ...     ...          ...      ...        ...     ...   \n",
      "3948  12541  27.0  17000.0     2.0          9.0      5.0       40.0     4.0   \n",
      "3949  12542  48.0  40000.0     1.0          4.0      4.0       60.0     4.0   \n",
      "3950  12543  38.0  35000.0     1.0          1.0      5.0       44.0     4.0   \n",
      "3951  12545  64.0  23000.0     1.0          1.0      6.0       40.0     4.0   \n",
      "3952  12550  47.0  12000.0     2.0          1.0      4.0       10.0     4.0   \n",
      "\n",
      "      health  experience  Russian  school  college  university  town  \\\n",
      "0        3.0        42.0        1       1        0           0     0   \n",
      "1        3.0        34.0        1       1        0           0     0   \n",
      "2        3.0         7.0        1       1        0           0     0   \n",
      "3        3.0        22.0        1       1        0           0     0   \n",
      "4        2.0        44.0        1       1        0           0     0   \n",
      "...      ...         ...      ...     ...      ...         ...   ...   \n",
      "3948     2.0         9.0        0       0        1           0     0   \n",
      "3949     3.0         9.0        0       1        0           0     0   \n",
      "3950     3.0        15.0        1       0        1           0     0   \n",
      "3951     3.0        40.0        1       0        0           1     0   \n",
      "3952     3.0        18.0        1       1        0           0     0   \n",
      "\n",
      "      good_health  male  \n",
      "0               0     0  \n",
      "1               0     1  \n",
      "2               0     0  \n",
      "3               0     0  \n",
      "4               1     1  \n",
      "...           ...   ...  \n",
      "3948            1     0  \n",
      "3949            0     1  \n",
      "3950            0     1  \n",
      "3951            0     1  \n",
      "3952            0     0  \n",
      "\n",
      "[3953 rows x 17 columns]\n"
     ]
    }
   ],
   "source": [
    "print(df)"
   ]
  },
  {
   "cell_type": "code",
   "execution_count": 14,
   "metadata": {},
   "outputs": [],
   "source": [
    "columns = ['gender', 'nationality', 'diploma', 'status', 'health'] #удалим уже ненужные столбцы"
   ]
  },
  {
   "cell_type": "code",
   "execution_count": 15,
   "metadata": {},
   "outputs": [],
   "source": [
    " df = df.drop(columns, axis=1) "
   ]
  },
  {
   "cell_type": "code",
   "execution_count": 16,
   "metadata": {
    "scrolled": false
   },
   "outputs": [
    {
     "data": {
      "text/html": [
       "<div>\n",
       "<style scoped>\n",
       "    .dataframe tbody tr th:only-of-type {\n",
       "        vertical-align: middle;\n",
       "    }\n",
       "\n",
       "    .dataframe tbody tr th {\n",
       "        vertical-align: top;\n",
       "    }\n",
       "\n",
       "    .dataframe thead th {\n",
       "        text-align: right;\n",
       "    }\n",
       "</style>\n",
       "<table border=\"1\" class=\"dataframe\">\n",
       "  <thead>\n",
       "    <tr style=\"text-align: right;\">\n",
       "      <th></th>\n",
       "      <th>index</th>\n",
       "      <th>age</th>\n",
       "      <th>salary</th>\n",
       "      <th>work_week</th>\n",
       "      <th>experience</th>\n",
       "      <th>Russian</th>\n",
       "      <th>school</th>\n",
       "      <th>college</th>\n",
       "      <th>university</th>\n",
       "      <th>town</th>\n",
       "      <th>good_health</th>\n",
       "      <th>male</th>\n",
       "    </tr>\n",
       "  </thead>\n",
       "  <tbody>\n",
       "    <tr>\n",
       "      <td>count</td>\n",
       "      <td>3953.000000</td>\n",
       "      <td>3953.000000</td>\n",
       "      <td>3953.000000</td>\n",
       "      <td>3953.000000</td>\n",
       "      <td>3953.000000</td>\n",
       "      <td>3953.000000</td>\n",
       "      <td>3953.000000</td>\n",
       "      <td>3953.000000</td>\n",
       "      <td>3953.000000</td>\n",
       "      <td>3953.000000</td>\n",
       "      <td>3953.000000</td>\n",
       "      <td>3953.000000</td>\n",
       "    </tr>\n",
       "    <tr>\n",
       "      <td>mean</td>\n",
       "      <td>6148.789780</td>\n",
       "      <td>42.489755</td>\n",
       "      <td>24347.707058</td>\n",
       "      <td>43.064255</td>\n",
       "      <td>20.072097</td>\n",
       "      <td>0.897040</td>\n",
       "      <td>0.273463</td>\n",
       "      <td>0.274981</td>\n",
       "      <td>0.369087</td>\n",
       "      <td>0.729067</td>\n",
       "      <td>0.430559</td>\n",
       "      <td>0.444473</td>\n",
       "    </tr>\n",
       "    <tr>\n",
       "      <td>std</td>\n",
       "      <td>3524.632225</td>\n",
       "      <td>12.394227</td>\n",
       "      <td>17894.899968</td>\n",
       "      <td>12.051799</td>\n",
       "      <td>12.801352</td>\n",
       "      <td>0.303945</td>\n",
       "      <td>0.445793</td>\n",
       "      <td>0.446561</td>\n",
       "      <td>0.482619</td>\n",
       "      <td>0.444498</td>\n",
       "      <td>0.495217</td>\n",
       "      <td>0.496970</td>\n",
       "    </tr>\n",
       "    <tr>\n",
       "      <td>min</td>\n",
       "      <td>0.000000</td>\n",
       "      <td>18.000000</td>\n",
       "      <td>50.000000</td>\n",
       "      <td>4.000000</td>\n",
       "      <td>0.000000</td>\n",
       "      <td>0.000000</td>\n",
       "      <td>0.000000</td>\n",
       "      <td>0.000000</td>\n",
       "      <td>0.000000</td>\n",
       "      <td>0.000000</td>\n",
       "      <td>0.000000</td>\n",
       "      <td>0.000000</td>\n",
       "    </tr>\n",
       "    <tr>\n",
       "      <td>25%</td>\n",
       "      <td>3161.000000</td>\n",
       "      <td>32.000000</td>\n",
       "      <td>13400.000000</td>\n",
       "      <td>40.000000</td>\n",
       "      <td>9.000000</td>\n",
       "      <td>1.000000</td>\n",
       "      <td>0.000000</td>\n",
       "      <td>0.000000</td>\n",
       "      <td>0.000000</td>\n",
       "      <td>0.000000</td>\n",
       "      <td>0.000000</td>\n",
       "      <td>0.000000</td>\n",
       "    </tr>\n",
       "    <tr>\n",
       "      <td>50%</td>\n",
       "      <td>6146.000000</td>\n",
       "      <td>42.000000</td>\n",
       "      <td>20000.000000</td>\n",
       "      <td>40.000000</td>\n",
       "      <td>18.000000</td>\n",
       "      <td>1.000000</td>\n",
       "      <td>0.000000</td>\n",
       "      <td>0.000000</td>\n",
       "      <td>0.000000</td>\n",
       "      <td>1.000000</td>\n",
       "      <td>0.000000</td>\n",
       "      <td>0.000000</td>\n",
       "    </tr>\n",
       "    <tr>\n",
       "      <td>75%</td>\n",
       "      <td>9179.000000</td>\n",
       "      <td>53.000000</td>\n",
       "      <td>30000.000000</td>\n",
       "      <td>48.000000</td>\n",
       "      <td>30.000000</td>\n",
       "      <td>1.000000</td>\n",
       "      <td>1.000000</td>\n",
       "      <td>1.000000</td>\n",
       "      <td>1.000000</td>\n",
       "      <td>1.000000</td>\n",
       "      <td>1.000000</td>\n",
       "      <td>1.000000</td>\n",
       "    </tr>\n",
       "    <tr>\n",
       "      <td>max</td>\n",
       "      <td>12550.000000</td>\n",
       "      <td>80.000000</td>\n",
       "      <td>240000.000000</td>\n",
       "      <td>168.000000</td>\n",
       "      <td>62.000000</td>\n",
       "      <td>1.000000</td>\n",
       "      <td>1.000000</td>\n",
       "      <td>1.000000</td>\n",
       "      <td>1.000000</td>\n",
       "      <td>1.000000</td>\n",
       "      <td>1.000000</td>\n",
       "      <td>1.000000</td>\n",
       "    </tr>\n",
       "  </tbody>\n",
       "</table>\n",
       "</div>"
      ],
      "text/plain": [
       "              index          age         salary    work_week   experience  \\\n",
       "count   3953.000000  3953.000000    3953.000000  3953.000000  3953.000000   \n",
       "mean    6148.789780    42.489755   24347.707058    43.064255    20.072097   \n",
       "std     3524.632225    12.394227   17894.899968    12.051799    12.801352   \n",
       "min        0.000000    18.000000      50.000000     4.000000     0.000000   \n",
       "25%     3161.000000    32.000000   13400.000000    40.000000     9.000000   \n",
       "50%     6146.000000    42.000000   20000.000000    40.000000    18.000000   \n",
       "75%     9179.000000    53.000000   30000.000000    48.000000    30.000000   \n",
       "max    12550.000000    80.000000  240000.000000   168.000000    62.000000   \n",
       "\n",
       "           Russian       school      college   university         town  \\\n",
       "count  3953.000000  3953.000000  3953.000000  3953.000000  3953.000000   \n",
       "mean      0.897040     0.273463     0.274981     0.369087     0.729067   \n",
       "std       0.303945     0.445793     0.446561     0.482619     0.444498   \n",
       "min       0.000000     0.000000     0.000000     0.000000     0.000000   \n",
       "25%       1.000000     0.000000     0.000000     0.000000     0.000000   \n",
       "50%       1.000000     0.000000     0.000000     0.000000     1.000000   \n",
       "75%       1.000000     1.000000     1.000000     1.000000     1.000000   \n",
       "max       1.000000     1.000000     1.000000     1.000000     1.000000   \n",
       "\n",
       "       good_health         male  \n",
       "count  3953.000000  3953.000000  \n",
       "mean      0.430559     0.444473  \n",
       "std       0.495217     0.496970  \n",
       "min       0.000000     0.000000  \n",
       "25%       0.000000     0.000000  \n",
       "50%       0.000000     0.000000  \n",
       "75%       1.000000     1.000000  \n",
       "max       1.000000     1.000000  "
      ]
     },
     "execution_count": 16,
     "metadata": {},
     "output_type": "execute_result"
    }
   ],
   "source": [
    "#Теперь изобразим описательные характеристики нашего датасета \n",
    "df.describe()"
   ]
  },
  {
   "cell_type": "markdown",
   "metadata": {},
   "source": [
    "Теперь приступим к построению регрессий. Сначала рассмотрим линейную регрессию и построим график, в качестве зависимой переменной выступает salary. "
   ]
  },
  {
   "cell_type": "code",
   "execution_count": 17,
   "metadata": {},
   "outputs": [],
   "source": [
    "x = df[['age','male','Russian','school','college','university','town','good_health','work_week','experience']].values\n",
    "y = df['salary'].values"
   ]
  },
  {
   "cell_type": "code",
   "execution_count": 18,
   "metadata": {},
   "outputs": [
    {
     "data": {
      "text/plain": [
       "array([[61.,  0.,  1., ...,  0., 48., 42.],\n",
       "       [59.,  1.,  1., ...,  0., 48., 34.],\n",
       "       [33.,  0.,  1., ...,  0., 40.,  7.],\n",
       "       ...,\n",
       "       [38.,  1.,  1., ...,  0., 44., 15.],\n",
       "       [64.,  1.,  1., ...,  0., 40., 40.],\n",
       "       [47.,  0.,  1., ...,  0., 10., 18.]])"
      ]
     },
     "execution_count": 18,
     "metadata": {},
     "output_type": "execute_result"
    }
   ],
   "source": [
    "x"
   ]
  },
  {
   "cell_type": "code",
   "execution_count": 19,
   "metadata": {},
   "outputs": [],
   "source": [
    "#зададим функцию, которая будет определять оценки параметров нашей линейной регрессии методом МНК\n",
    "def fitLin(x, y):\n",
    "    A = np.concatenate( [np.ones((len(x),1)), x ], axis=1 )\n",
    "    AA = np.linalg.pinv(A)\n",
    "    d = AA.dot(y)\n",
    "    return d"
   ]
  },
  {
   "cell_type": "code",
   "execution_count": 20,
   "metadata": {},
   "outputs": [
    {
     "name": "stdout",
     "output_type": "stream",
     "text": [
      "[ 7068.5    -288.516  7835.426  -228.749  1627.14   3902.892 13022.099\n",
      "  6462.082  1991.476   208.792   267.84 ]\n"
     ]
    }
   ],
   "source": [
    "d = fitLin(x, y)\n",
    "print(np.round(d,3))"
   ]
  },
  {
   "cell_type": "code",
   "execution_count": 65,
   "metadata": {},
   "outputs": [],
   "source": [
    "#теперь зададим функцию, которая будет вычислять оценочные значения для модели\n",
    "def evalLine(d, x):\n",
    "    e = np.zeros((x.shape[0],1)) + d[0] # пустой маасив из нулей с константой\n",
    "    for i in range(x.shape[0]):\n",
    "        e[i,0] += poly.polyval(x[i], d[1:])[0]\n",
    "    return e"
   ]
  },
  {
   "cell_type": "code",
   "execution_count": 66,
   "metadata": {},
   "outputs": [
    {
     "data": {
      "text/plain": [
       "array([[3.24778598e+15],\n",
       "       [2.46725984e+15],\n",
       "       [1.29141620e+13],\n",
       "       ...,\n",
       "       [4.85240212e+13],\n",
       "       [4.77522904e+15],\n",
       "       [3.40778022e+14]])"
      ]
     },
     "execution_count": 66,
     "metadata": {},
     "output_type": "execute_result"
    }
   ],
   "source": [
    "evalLine(d,x)"
   ]
  },
  {
   "cell_type": "code",
   "execution_count": 37,
   "metadata": {},
   "outputs": [],
   "source": [
    "#наконец необходимо задать функцию для вычисления стандартной и квадратичной ошибки модели\n",
    "def errLine(d, x, y):\n",
    "    z =  evalLine(d,x) - y.reshape(x.shape[0],1)\n",
    "    return np.sum(z)/x.shape[0], np.sum(z**2)/x.shape[0]"
   ]
  },
  {
   "cell_type": "code",
   "execution_count": 38,
   "metadata": {},
   "outputs": [
    {
     "data": {
      "text/plain": [
       "(9.133535574174307e+17, 6.946467092092565e+36)"
      ]
     },
     "execution_count": 38,
     "metadata": {},
     "output_type": "execute_result"
    }
   ],
   "source": [
    "errLine(d, x, y)"
   ]
  },
  {
   "cell_type": "markdown",
   "metadata": {},
   "source": [
    "Рассмотрим, как можно улучшить нашу модель. Для этого представим распределение некоторых перменных."
   ]
  },
  {
   "cell_type": "code",
   "execution_count": 39,
   "metadata": {
    "scrolled": true
   },
   "outputs": [
    {
     "data": {
      "text/plain": [
       "<matplotlib.axes._subplots.AxesSubplot at 0x1014fe3510>"
      ]
     },
     "execution_count": 39,
     "metadata": {},
     "output_type": "execute_result"
    },
    {
     "data": {
      "image/png": "[encoded data removed]",
      "text/plain": [
       "<Figure size 432x288 with 1 Axes>"
      ]
     },
     "metadata": {
      "needs_background": "light"
     },
     "output_type": "display_data"
    }
   ],
   "source": [
    "#посмотрим на распределение заработной платы\n",
    "#стоит отметить, что распределение, представленное на грфике, не является нормальным, поэтому возьмем логарифм данной величины и пронормируем таким образом\n",
    "df['salary'].plot.hist(bins=50)"
   ]
  },
  {
   "cell_type": "code",
   "execution_count": 47,
   "metadata": {},
   "outputs": [],
   "source": [
    "df['ln_salary'] = np.log10(df['salary'])"
   ]
  },
  {
   "cell_type": "code",
   "execution_count": 48,
   "metadata": {},
   "outputs": [
    {
     "data": {
      "text/html": [
       "<div>\n",
       "<style scoped>\n",
       "    .dataframe tbody tr th:only-of-type {\n",
       "        vertical-align: middle;\n",
       "    }\n",
       "\n",
       "    .dataframe tbody tr th {\n",
       "        vertical-align: top;\n",
       "    }\n",
       "\n",
       "    .dataframe thead th {\n",
       "        text-align: right;\n",
       "    }\n",
       "</style>\n",
       "<table border=\"1\" class=\"dataframe\">\n",
       "  <thead>\n",
       "    <tr style=\"text-align: right;\">\n",
       "      <th></th>\n",
       "      <th>index</th>\n",
       "      <th>age</th>\n",
       "      <th>salary</th>\n",
       "      <th>work_week</th>\n",
       "      <th>experience</th>\n",
       "      <th>Russian</th>\n",
       "      <th>school</th>\n",
       "      <th>college</th>\n",
       "      <th>university</th>\n",
       "      <th>town</th>\n",
       "      <th>good_health</th>\n",
       "      <th>male</th>\n",
       "      <th>ln_salary</th>\n",
       "    </tr>\n",
       "  </thead>\n",
       "  <tbody>\n",
       "    <tr>\n",
       "      <td>0</td>\n",
       "      <td>0</td>\n",
       "      <td>61.0</td>\n",
       "      <td>28000.0</td>\n",
       "      <td>48.0</td>\n",
       "      <td>42.0</td>\n",
       "      <td>1</td>\n",
       "      <td>1</td>\n",
       "      <td>0</td>\n",
       "      <td>0</td>\n",
       "      <td>0</td>\n",
       "      <td>0</td>\n",
       "      <td>0</td>\n",
       "      <td>4.447158</td>\n",
       "    </tr>\n",
       "    <tr>\n",
       "      <td>1</td>\n",
       "      <td>4</td>\n",
       "      <td>59.0</td>\n",
       "      <td>21000.0</td>\n",
       "      <td>48.0</td>\n",
       "      <td>34.0</td>\n",
       "      <td>1</td>\n",
       "      <td>1</td>\n",
       "      <td>0</td>\n",
       "      <td>0</td>\n",
       "      <td>0</td>\n",
       "      <td>0</td>\n",
       "      <td>1</td>\n",
       "      <td>4.322219</td>\n",
       "    </tr>\n",
       "    <tr>\n",
       "      <td>2</td>\n",
       "      <td>5</td>\n",
       "      <td>33.0</td>\n",
       "      <td>40000.0</td>\n",
       "      <td>40.0</td>\n",
       "      <td>7.0</td>\n",
       "      <td>1</td>\n",
       "      <td>1</td>\n",
       "      <td>0</td>\n",
       "      <td>0</td>\n",
       "      <td>0</td>\n",
       "      <td>0</td>\n",
       "      <td>0</td>\n",
       "      <td>4.602060</td>\n",
       "    </tr>\n",
       "    <tr>\n",
       "      <td>3</td>\n",
       "      <td>6</td>\n",
       "      <td>48.0</td>\n",
       "      <td>15000.0</td>\n",
       "      <td>40.0</td>\n",
       "      <td>22.0</td>\n",
       "      <td>1</td>\n",
       "      <td>1</td>\n",
       "      <td>0</td>\n",
       "      <td>0</td>\n",
       "      <td>0</td>\n",
       "      <td>0</td>\n",
       "      <td>0</td>\n",
       "      <td>4.176091</td>\n",
       "    </tr>\n",
       "    <tr>\n",
       "      <td>4</td>\n",
       "      <td>8</td>\n",
       "      <td>62.0</td>\n",
       "      <td>9000.0</td>\n",
       "      <td>70.0</td>\n",
       "      <td>44.0</td>\n",
       "      <td>1</td>\n",
       "      <td>1</td>\n",
       "      <td>0</td>\n",
       "      <td>0</td>\n",
       "      <td>0</td>\n",
       "      <td>1</td>\n",
       "      <td>1</td>\n",
       "      <td>3.954243</td>\n",
       "    </tr>\n",
       "  </tbody>\n",
       "</table>\n",
       "</div>"
      ],
      "text/plain": [
       "   index   age   salary  work_week  experience  Russian  school  college  \\\n",
       "0      0  61.0  28000.0       48.0        42.0        1       1        0   \n",
       "1      4  59.0  21000.0       48.0        34.0        1       1        0   \n",
       "2      5  33.0  40000.0       40.0         7.0        1       1        0   \n",
       "3      6  48.0  15000.0       40.0        22.0        1       1        0   \n",
       "4      8  62.0   9000.0       70.0        44.0        1       1        0   \n",
       "\n",
       "   university  town  good_health  male  ln_salary  \n",
       "0           0     0            0     0   4.447158  \n",
       "1           0     0            0     1   4.322219  \n",
       "2           0     0            0     0   4.602060  \n",
       "3           0     0            0     0   4.176091  \n",
       "4           0     0            1     1   3.954243  "
      ]
     },
     "execution_count": 48,
     "metadata": {},
     "output_type": "execute_result"
    }
   ],
   "source": [
    "df.head()"
   ]
  },
  {
   "cell_type": "code",
   "execution_count": 49,
   "metadata": {},
   "outputs": [
    {
     "name": "stdout",
     "output_type": "stream",
     "text": [
      "[ 4.052 -0.007  0.145 -0.012  0.036  0.076  0.219  0.115  0.036  0.004\n",
      "  0.006]\n"
     ]
    }
   ],
   "source": [
    "y = df['ln_salary'].values\n",
    "d = fitLin(x, y)\n",
    "print(np.round(d,3))"
   ]
  },
  {
   "cell_type": "code",
   "execution_count": 50,
   "metadata": {
    "scrolled": true
   },
   "outputs": [
    {
     "data": {
      "text/plain": [
       "Text(0, 0.5, 'Salary')"
      ]
     },
     "execution_count": 50,
     "metadata": {},
     "output_type": "execute_result"
    },
    {
     "data": {
      "image/png": "[encoded data removed]",
      "text/plain": [
       "<Figure size 432x288 with 1 Axes>"
      ]
     },
     "metadata": {
      "needs_background": "light"
     },
     "output_type": "display_data"
    }
   ],
   "source": [
    "#представим зависимость \"salary\" от \"age\" в виде рассеянной диаграммы\n",
    "plt.scatter(df['age'], df['salary'], c='g', marker = \".\", cmap='viridis')\n",
    "plt.xlim(16, 85)\n",
    "plt.ylim(0, 160000)\n",
    "plt.xlabel( 'Age' ) \n",
    "plt.ylabel( 'Salary')"
   ]
  },
  {
   "cell_type": "code",
   "execution_count": 51,
   "metadata": {},
   "outputs": [],
   "source": [
    "#поскольку в среднем более низкие доходы, как правило, имеют пожилые или, наборот, молодые люди, то возведем переменную, отвчающую за возраст, в квадрат\n",
    "#добавим к нашему датасету квадрат переменной \"age\"\n",
    "df['sq_age'] = np.square(df['age'])"
   ]
  },
  {
   "cell_type": "code",
   "execution_count": 52,
   "metadata": {},
   "outputs": [
    {
     "name": "stdout",
     "output_type": "stream",
     "text": [
      "[ 3.606  0.015 -0.     0.147 -0.012  0.031  0.079  0.217  0.122  0.039\n",
      "  0.004  0.007]\n"
     ]
    }
   ],
   "source": [
    "x = df[['age','sq_age','male','Russian','school','college','university','town','good_health','work_week','experience']].values\n",
    "d = fitLin(x, y)\n",
    "print(np.round(d,3))"
   ]
  },
  {
   "cell_type": "code",
   "execution_count": 53,
   "metadata": {},
   "outputs": [
    {
     "data": {
      "text/plain": [
       "Text(0, 0.5, 'Salary')"
      ]
     },
     "execution_count": 53,
     "metadata": {},
     "output_type": "execute_result"
    },
    {
     "data": {
      "image/png": "[encoded data removed]",
      "text/plain": [
       "<Figure size 432x288 with 1 Axes>"
      ]
     },
     "metadata": {
      "needs_background": "light"
     },
     "output_type": "display_data"
    }
   ],
   "source": [
    "#рассмотрим зависимость переменной \"salary\" от \"experience\"\n",
    "plt.scatter(df['experience'], df['salary'], c='g', marker = \".\", cmap='viridis')\n",
    "plt.xlim(0, 65)\n",
    "plt.ylim(0, 160000)\n",
    "plt.xlabel( 'Experience' ) \n",
    "plt.ylabel( 'Salary') "
   ]
  },
  {
   "cell_type": "code",
   "execution_count": 54,
   "metadata": {},
   "outputs": [],
   "source": [
    "#добавим к нашему датасету квадрат переменной \"experience\", поскольку зарплата зависит не только от опыта, но и от опыта в квадрате\n",
    "df['sq_exp'] = np.square(df['experience'])"
   ]
  },
  {
   "cell_type": "code",
   "execution_count": 55,
   "metadata": {},
   "outputs": [
    {
     "name": "stdout",
     "output_type": "stream",
     "text": [
      "[ 3.766  0.005 -0.     0.147 -0.012  0.031  0.077  0.215  0.121  0.039\n",
      "  0.004  0.013 -0.   ]\n"
     ]
    }
   ],
   "source": [
    "x = df[['age','sq_age','male','Russian','school','college','university','town','good_health','work_week','experience','sq_exp']].values\n",
    "d = fitLin(x, y)\n",
    "print(np.round(d,3))"
   ]
  },
  {
   "cell_type": "code",
   "execution_count": 57,
   "metadata": {},
   "outputs": [
    {
     "data": {
      "text/plain": [
       "(872213250339841.0, 4.4691075167557945e+30)"
      ]
     },
     "execution_count": 57,
     "metadata": {},
     "output_type": "execute_result"
    }
   ],
   "source": [
    "errLine(d, x, y)"
   ]
  },
  {
   "cell_type": "markdown",
   "metadata": {},
   "source": [
    "Проверим, действительно ли это решение - минимум суммы квадратов отклонений."
   ]
  },
  {
   "cell_type": "code",
   "execution_count": 58,
   "metadata": {},
   "outputs": [],
   "source": [
    "###Функция для квадратичной ошибки\n",
    "def errLine_squared(d, x, y):\n",
    "    z =  evalLine(d,x) - y.reshape(x.shape[0],1)\n",
    "    return np.sum(z**2)/x.shape[0]"
   ]
  },
  {
   "cell_type": "code",
   "execution_count": 60,
   "metadata": {},
   "outputs": [
    {
     "ename": "KeyboardInterrupt",
     "evalue": "",
     "output_type": "error",
     "traceback": [
      "\u001b[0;31m---------------------------------------------------------------------------\u001b[0m",
      "\u001b[0;31mKeyboardInterrupt\u001b[0m                         Traceback (most recent call last)",
      "\u001b[0;32m<ipython-input-60-b8bbe0236286>\u001b[0m in \u001b[0;36m<module>\u001b[0;34m\u001b[0m\n\u001b[0;32m----> 1\u001b[0;31m \u001b[0mopt\u001b[0m\u001b[0;34m.\u001b[0m\u001b[0mminimize\u001b[0m\u001b[0;34m(\u001b[0m\u001b[0merrLine_squared\u001b[0m\u001b[0;34m,\u001b[0m \u001b[0md\u001b[0m \u001b[0;34m,\u001b[0m \u001b[0margs\u001b[0m\u001b[0;34m=\u001b[0m\u001b[0;34m(\u001b[0m\u001b[0mx\u001b[0m\u001b[0;34m,\u001b[0m \u001b[0my\u001b[0m\u001b[0;34m)\u001b[0m\u001b[0;34m,\u001b[0m \u001b[0mmethod\u001b[0m\u001b[0;34m=\u001b[0m\u001b[0;34m\"Nelder-Mead\"\u001b[0m\u001b[0;34m)\u001b[0m\u001b[0;34m\u001b[0m\u001b[0;34m\u001b[0m\u001b[0m\n\u001b[0m",
      "\u001b[0;32m~/opt/anaconda3/lib/python3.7/site-packages/scipy/optimize/_minimize.py\u001b[0m in \u001b[0;36mminimize\u001b[0;34m(fun, x0, args, method, jac, hess, hessp, bounds, constraints, tol, callback, options)\u001b[0m\n\u001b[1;32m    586\u001b[0m                       callback=callback, **options)\n\u001b[1;32m    587\u001b[0m     \u001b[0;32melif\u001b[0m \u001b[0mmeth\u001b[0m \u001b[0;34m==\u001b[0m \u001b[0;34m'nelder-mead'\u001b[0m\u001b[0;34m:\u001b[0m\u001b[0;34m\u001b[0m\u001b[0;34m\u001b[0m\u001b[0m\n\u001b[0;32m--> 588\u001b[0;31m         \u001b[0;32mreturn\u001b[0m \u001b[0m_minimize_neldermead\u001b[0m\u001b[0;34m(\u001b[0m\u001b[0mfun\u001b[0m\u001b[0;34m,\u001b[0m \u001b[0mx0\u001b[0m\u001b[0;34m,\u001b[0m \u001b[0margs\u001b[0m\u001b[0;34m,\u001b[0m \u001b[0mcallback\u001b[0m\u001b[0;34m,\u001b[0m \u001b[0;34m**\u001b[0m\u001b[0moptions\u001b[0m\u001b[0;34m)\u001b[0m\u001b[0;34m\u001b[0m\u001b[0;34m\u001b[0m\u001b[0m\n\u001b[0m\u001b[1;32m    589\u001b[0m     \u001b[0;32melif\u001b[0m \u001b[0mmeth\u001b[0m \u001b[0;34m==\u001b[0m \u001b[0;34m'powell'\u001b[0m\u001b[0;34m:\u001b[0m\u001b[0;34m\u001b[0m\u001b[0;34m\u001b[0m\u001b[0m\n\u001b[1;32m    590\u001b[0m         \u001b[0;32mreturn\u001b[0m \u001b[0m_minimize_powell\u001b[0m\u001b[0;34m(\u001b[0m\u001b[0mfun\u001b[0m\u001b[0;34m,\u001b[0m \u001b[0mx0\u001b[0m\u001b[0;34m,\u001b[0m \u001b[0margs\u001b[0m\u001b[0;34m,\u001b[0m \u001b[0mcallback\u001b[0m\u001b[0;34m,\u001b[0m \u001b[0;34m**\u001b[0m\u001b[0moptions\u001b[0m\u001b[0;34m)\u001b[0m\u001b[0;34m\u001b[0m\u001b[0;34m\u001b[0m\u001b[0m\n",
      "\u001b[0;32m~/opt/anaconda3/lib/python3.7/site-packages/scipy/optimize/optimize.py\u001b[0m in \u001b[0;36m_minimize_neldermead\u001b[0;34m(func, x0, args, callback, maxiter, maxfev, disp, return_all, initial_simplex, xatol, fatol, adaptive, **unknown_options)\u001b[0m\n\u001b[1;32m    630\u001b[0m                     \u001b[0;31m# Perform an inside contraction\u001b[0m\u001b[0;34m\u001b[0m\u001b[0;34m\u001b[0m\u001b[0;34m\u001b[0m\u001b[0m\n\u001b[1;32m    631\u001b[0m                     \u001b[0mxcc\u001b[0m \u001b[0;34m=\u001b[0m \u001b[0;34m(\u001b[0m\u001b[0;36m1\u001b[0m \u001b[0;34m-\u001b[0m \u001b[0mpsi\u001b[0m\u001b[0;34m)\u001b[0m \u001b[0;34m*\u001b[0m \u001b[0mxbar\u001b[0m \u001b[0;34m+\u001b[0m \u001b[0mpsi\u001b[0m \u001b[0;34m*\u001b[0m \u001b[0msim\u001b[0m\u001b[0;34m[\u001b[0m\u001b[0;34m-\u001b[0m\u001b[0;36m1\u001b[0m\u001b[0;34m]\u001b[0m\u001b[0;34m\u001b[0m\u001b[0;34m\u001b[0m\u001b[0m\n\u001b[0;32m--> 632\u001b[0;31m                     \u001b[0mfxcc\u001b[0m \u001b[0;34m=\u001b[0m \u001b[0mfunc\u001b[0m\u001b[0;34m(\u001b[0m\u001b[0mxcc\u001b[0m\u001b[0;34m)\u001b[0m\u001b[0;34m\u001b[0m\u001b[0;34m\u001b[0m\u001b[0m\n\u001b[0m\u001b[1;32m    633\u001b[0m \u001b[0;34m\u001b[0m\u001b[0m\n\u001b[1;32m    634\u001b[0m                     \u001b[0;32mif\u001b[0m \u001b[0mfxcc\u001b[0m \u001b[0;34m<\u001b[0m \u001b[0mfsim\u001b[0m\u001b[0;34m[\u001b[0m\u001b[0;34m-\u001b[0m\u001b[0;36m1\u001b[0m\u001b[0;34m]\u001b[0m\u001b[0;34m:\u001b[0m\u001b[0;34m\u001b[0m\u001b[0;34m\u001b[0m\u001b[0m\n",
      "\u001b[0;32m~/opt/anaconda3/lib/python3.7/site-packages/scipy/optimize/optimize.py\u001b[0m in \u001b[0;36mfunction_wrapper\u001b[0;34m(*wrapper_args)\u001b[0m\n\u001b[1;32m    324\u001b[0m     \u001b[0;32mdef\u001b[0m \u001b[0mfunction_wrapper\u001b[0m\u001b[0;34m(\u001b[0m\u001b[0;34m*\u001b[0m\u001b[0mwrapper_args\u001b[0m\u001b[0;34m)\u001b[0m\u001b[0;34m:\u001b[0m\u001b[0;34m\u001b[0m\u001b[0;34m\u001b[0m\u001b[0m\n\u001b[1;32m    325\u001b[0m         \u001b[0mncalls\u001b[0m\u001b[0;34m[\u001b[0m\u001b[0;36m0\u001b[0m\u001b[0;34m]\u001b[0m \u001b[0;34m+=\u001b[0m \u001b[0;36m1\u001b[0m\u001b[0;34m\u001b[0m\u001b[0;34m\u001b[0m\u001b[0m\n\u001b[0;32m--> 326\u001b[0;31m         \u001b[0;32mreturn\u001b[0m \u001b[0mfunction\u001b[0m\u001b[0;34m(\u001b[0m\u001b[0;34m*\u001b[0m\u001b[0;34m(\u001b[0m\u001b[0mwrapper_args\u001b[0m \u001b[0;34m+\u001b[0m \u001b[0margs\u001b[0m\u001b[0;34m)\u001b[0m\u001b[0;34m)\u001b[0m\u001b[0;34m\u001b[0m\u001b[0;34m\u001b[0m\u001b[0m\n\u001b[0m\u001b[1;32m    327\u001b[0m \u001b[0;34m\u001b[0m\u001b[0m\n\u001b[1;32m    328\u001b[0m     \u001b[0;32mreturn\u001b[0m \u001b[0mncalls\u001b[0m\u001b[0;34m,\u001b[0m \u001b[0mfunction_wrapper\u001b[0m\u001b[0;34m\u001b[0m\u001b[0;34m\u001b[0m\u001b[0m\n",
      "\u001b[0;32m<ipython-input-59-271c465dc67d>\u001b[0m in \u001b[0;36merrLine_squared\u001b[0;34m(d, x, y)\u001b[0m\n\u001b[1;32m      1\u001b[0m \u001b[0;31m###Функция для квадратичной ошибки\u001b[0m\u001b[0;34m\u001b[0m\u001b[0;34m\u001b[0m\u001b[0;34m\u001b[0m\u001b[0m\n\u001b[1;32m      2\u001b[0m \u001b[0;32mdef\u001b[0m \u001b[0merrLine_squared\u001b[0m\u001b[0;34m(\u001b[0m\u001b[0md\u001b[0m\u001b[0;34m,\u001b[0m \u001b[0mx\u001b[0m\u001b[0;34m,\u001b[0m \u001b[0my\u001b[0m\u001b[0;34m)\u001b[0m\u001b[0;34m:\u001b[0m\u001b[0;34m\u001b[0m\u001b[0;34m\u001b[0m\u001b[0m\n\u001b[0;32m----> 3\u001b[0;31m     \u001b[0mz\u001b[0m \u001b[0;34m=\u001b[0m  \u001b[0mevalLine\u001b[0m\u001b[0;34m(\u001b[0m\u001b[0md\u001b[0m\u001b[0;34m,\u001b[0m\u001b[0mx\u001b[0m\u001b[0;34m)\u001b[0m \u001b[0;34m-\u001b[0m \u001b[0my\u001b[0m\u001b[0;34m.\u001b[0m\u001b[0mreshape\u001b[0m\u001b[0;34m(\u001b[0m\u001b[0mx\u001b[0m\u001b[0;34m.\u001b[0m\u001b[0mshape\u001b[0m\u001b[0;34m[\u001b[0m\u001b[0;36m0\u001b[0m\u001b[0;34m]\u001b[0m\u001b[0;34m,\u001b[0m\u001b[0;36m1\u001b[0m\u001b[0;34m)\u001b[0m\u001b[0;34m\u001b[0m\u001b[0;34m\u001b[0m\u001b[0m\n\u001b[0m\u001b[1;32m      4\u001b[0m     \u001b[0;32mreturn\u001b[0m \u001b[0mnp\u001b[0m\u001b[0;34m.\u001b[0m\u001b[0msum\u001b[0m\u001b[0;34m(\u001b[0m\u001b[0mz\u001b[0m\u001b[0;34m**\u001b[0m\u001b[0;36m2\u001b[0m\u001b[0;34m)\u001b[0m\u001b[0;34m/\u001b[0m\u001b[0mx\u001b[0m\u001b[0;34m.\u001b[0m\u001b[0mshape\u001b[0m\u001b[0;34m[\u001b[0m\u001b[0;36m0\u001b[0m\u001b[0;34m]\u001b[0m\u001b[0;34m\u001b[0m\u001b[0;34m\u001b[0m\u001b[0m\n",
      "\u001b[0;32m<ipython-input-44-e751075627b8>\u001b[0m in \u001b[0;36mevalLine\u001b[0;34m(d, x)\u001b[0m\n\u001b[1;32m      2\u001b[0m     \u001b[0me\u001b[0m \u001b[0;34m=\u001b[0m \u001b[0mnp\u001b[0m\u001b[0;34m.\u001b[0m\u001b[0mzeros\u001b[0m\u001b[0;34m(\u001b[0m\u001b[0;34m(\u001b[0m\u001b[0mx\u001b[0m\u001b[0;34m.\u001b[0m\u001b[0mshape\u001b[0m\u001b[0;34m[\u001b[0m\u001b[0;36m0\u001b[0m\u001b[0;34m]\u001b[0m\u001b[0;34m,\u001b[0m\u001b[0;36m1\u001b[0m\u001b[0;34m)\u001b[0m\u001b[0;34m)\u001b[0m \u001b[0;34m+\u001b[0m \u001b[0md\u001b[0m\u001b[0;34m[\u001b[0m\u001b[0;36m0\u001b[0m\u001b[0;34m]\u001b[0m\u001b[0;34m\u001b[0m\u001b[0;34m\u001b[0m\u001b[0m\n\u001b[1;32m      3\u001b[0m     \u001b[0;32mfor\u001b[0m \u001b[0mi\u001b[0m \u001b[0;32min\u001b[0m \u001b[0mlist\u001b[0m\u001b[0;34m(\u001b[0m\u001b[0mrange\u001b[0m\u001b[0;34m(\u001b[0m\u001b[0mx\u001b[0m\u001b[0;34m.\u001b[0m\u001b[0mshape\u001b[0m\u001b[0;34m[\u001b[0m\u001b[0;36m0\u001b[0m\u001b[0;34m]\u001b[0m\u001b[0;34m)\u001b[0m\u001b[0;34m)\u001b[0m\u001b[0;34m:\u001b[0m\u001b[0;34m\u001b[0m\u001b[0;34m\u001b[0m\u001b[0m\n\u001b[0;32m----> 4\u001b[0;31m         \u001b[0me\u001b[0m\u001b[0;34m[\u001b[0m\u001b[0mi\u001b[0m\u001b[0;34m,\u001b[0m\u001b[0;36m0\u001b[0m\u001b[0;34m]\u001b[0m \u001b[0;34m+=\u001b[0m \u001b[0mpoly\u001b[0m\u001b[0;34m.\u001b[0m\u001b[0mpolyval\u001b[0m\u001b[0;34m(\u001b[0m\u001b[0mx\u001b[0m\u001b[0;34m[\u001b[0m\u001b[0mi\u001b[0m\u001b[0;34m]\u001b[0m\u001b[0;34m,\u001b[0m \u001b[0md\u001b[0m\u001b[0;34m[\u001b[0m\u001b[0;36m1\u001b[0m\u001b[0;34m:\u001b[0m\u001b[0;34m]\u001b[0m\u001b[0;34m)\u001b[0m\u001b[0;34m[\u001b[0m\u001b[0;36m0\u001b[0m\u001b[0;34m]\u001b[0m\u001b[0;34m\u001b[0m\u001b[0;34m\u001b[0m\u001b[0m\n\u001b[0m\u001b[1;32m      5\u001b[0m     \u001b[0;32mreturn\u001b[0m \u001b[0me\u001b[0m\u001b[0;34m\u001b[0m\u001b[0;34m\u001b[0m\u001b[0m\n",
      "\u001b[0;32m~/opt/anaconda3/lib/python3.7/site-packages/numpy/polynomial/polynomial.py\u001b[0m in \u001b[0;36mpolyval\u001b[0;34m(x, c, tensor)\u001b[0m\n\u001b[1;32m    726\u001b[0m         \u001b[0;31m# astype fails with NA\u001b[0m\u001b[0;34m\u001b[0m\u001b[0;34m\u001b[0m\u001b[0;34m\u001b[0m\u001b[0m\n\u001b[1;32m    727\u001b[0m         \u001b[0mc\u001b[0m \u001b[0;34m=\u001b[0m \u001b[0mc\u001b[0m \u001b[0;34m+\u001b[0m \u001b[0;36m0.0\u001b[0m\u001b[0;34m\u001b[0m\u001b[0;34m\u001b[0m\u001b[0m\n\u001b[0;32m--> 728\u001b[0;31m     \u001b[0;32mif\u001b[0m \u001b[0misinstance\u001b[0m\u001b[0;34m(\u001b[0m\u001b[0mx\u001b[0m\u001b[0;34m,\u001b[0m \u001b[0;34m(\u001b[0m\u001b[0mtuple\u001b[0m\u001b[0;34m,\u001b[0m \u001b[0mlist\u001b[0m\u001b[0;34m)\u001b[0m\u001b[0;34m)\u001b[0m\u001b[0;34m:\u001b[0m\u001b[0;34m\u001b[0m\u001b[0;34m\u001b[0m\u001b[0m\n\u001b[0m\u001b[1;32m    729\u001b[0m         \u001b[0mx\u001b[0m \u001b[0;34m=\u001b[0m \u001b[0mnp\u001b[0m\u001b[0;34m.\u001b[0m\u001b[0masarray\u001b[0m\u001b[0;34m(\u001b[0m\u001b[0mx\u001b[0m\u001b[0;34m)\u001b[0m\u001b[0;34m\u001b[0m\u001b[0;34m\u001b[0m\u001b[0m\n\u001b[1;32m    730\u001b[0m     \u001b[0;32mif\u001b[0m \u001b[0misinstance\u001b[0m\u001b[0;34m(\u001b[0m\u001b[0mx\u001b[0m\u001b[0;34m,\u001b[0m \u001b[0mnp\u001b[0m\u001b[0;34m.\u001b[0m\u001b[0mndarray\u001b[0m\u001b[0;34m)\u001b[0m \u001b[0;32mand\u001b[0m \u001b[0mtensor\u001b[0m\u001b[0;34m:\u001b[0m\u001b[0;34m\u001b[0m\u001b[0;34m\u001b[0m\u001b[0m\n",
      "\u001b[0;31mKeyboardInterrupt\u001b[0m: "
     ]
    }
   ],
   "source": [
    "opt.minimize(errLine_squared, d , args=(x, y), method=\"Nelder-Mead\")"
   ]
  },
  {
   "cell_type": "code",
   "execution_count": 37,
   "metadata": {},
   "outputs": [
    {
     "name": "stdout",
     "output_type": "stream",
     "text": [
      "[ 3.766  0.005 -0.     0.147 -0.012  0.031  0.077  0.215  0.121  0.039\n",
      "  0.004  0.013 -0.   ]\n"
     ]
    }
   ],
   "source": [
    "d1 = opt.minimize( errLine_squared, d , args=(x, y), method=\"Nelder-Mead\").x\n",
    "print(np.round(d1,3))"
   ]
  },
  {
   "cell_type": "markdown",
   "metadata": {},
   "source": [
    "Получили, что наш результат является локальным минимумом для квадратичной ошибки, как впринципе и ожидалось. Попробуем по-другому задать ошибку: Можно предположить, что когда мы недооцениваем зарплату (то есть зарплата очень высокая), это нормально, так как высокие зарплаты обусловлены стечение многих ненаблюдаемых факторов. Для таких случаев вес ошибки оставим равным 1. Случай когда мы переоцениваем хуже - для него коэффициент линейной ошибки поставим равным 2."
   ]
  },
  {
   "cell_type": "code",
   "execution_count": 38,
   "metadata": {},
   "outputs": [],
   "source": [
    "def errLine_modified(d, x, y):\n",
    "    z =  evalLine(d,x) - y.reshape(x.shape[0],1)\n",
    "    for i in list(range(z.shape[0])) :\n",
    "        if z[i,] > 0 :\n",
    "            z[i,] = z[i,] * 2\n",
    "        else:\n",
    "            z[i,] = z[i,] \n",
    "    return np.sum(z)/x.shape[0]"
   ]
  },
  {
   "cell_type": "code",
   "execution_count": 39,
   "metadata": {},
   "outputs": [
    {
     "data": {
      "text/plain": [
       "0.09065254937343467"
      ]
     },
     "execution_count": 39,
     "metadata": {},
     "output_type": "execute_result"
    }
   ],
   "source": [
    "errLine_modified(d, x, y)"
   ]
  },
  {
   "cell_type": "markdown",
   "metadata": {},
   "source": [
    "Теперь через minimize посчитаем минимум для нашей модели при такой функции ошибок."
   ]
  },
  {
   "cell_type": "code",
   "execution_count": 40,
   "metadata": {},
   "outputs": [
    {
     "data": {
      "text/plain": [
       " final_simplex: (array([[-5.17018565e+52,  1.00705217e+49, -2.09426873e+47,\n",
       "         2.35282270e+50, -3.49858466e+49, -4.39291125e+49,\n",
       "         1.39968148e+50,  2.09851403e+50, -2.71864549e+50,\n",
       "        -2.01817796e+49,  1.76963824e+49, -1.21327358e+49,\n",
       "        -1.70285257e+47],\n",
       "       [-4.21924406e+52,  8.21827138e+48, -1.70907420e+47,\n",
       "         1.92007287e+50, -2.85509720e+49, -3.58493214e+49,\n",
       "         1.14224095e+50,  1.71253867e+50, -2.21861063e+50,\n",
       "        -1.64697865e+49,  1.44415233e+49, -9.90118669e+48,\n",
       "        -1.38965041e+47],\n",
       "       [-4.17938272e+52,  8.14062920e+48, -1.69292771e+47,\n",
       "         1.90193296e+50, -2.82812365e+49, -3.55106347e+49,\n",
       "         1.13144962e+50,  1.69635945e+50, -2.19765029e+50,\n",
       "        -1.63141881e+49,  1.43050869e+49, -9.80764515e+48,\n",
       "        -1.37652168e+47],\n",
       "       [-4.09950211e+52,  7.98503722e+48, -1.66057075e+47,\n",
       "         1.86558129e+50, -2.77406967e+49, -3.48319193e+49,\n",
       "         1.10982420e+50,  1.66393690e+50, -2.15564657e+50,\n",
       "        -1.60023747e+49,  1.40316735e+49, -9.62019147e+48,\n",
       "        -1.35021220e+47],\n",
       "       [-3.87742193e+52,  7.55246797e+48, -1.57061352e+47,\n",
       "         1.76451813e+50, -2.62379145e+49, -3.29449880e+49,\n",
       "         1.04970228e+50,  1.57379732e+50, -2.03886985e+50,\n",
       "        -1.51354865e+49,  1.32715430e+49, -9.09904187e+48,\n",
       "        -1.27706786e+47],\n",
       "       [-3.70091371e+52,  7.20866410e+48, -1.49911596e+47,\n",
       "         1.68419364e+50, -2.50435107e+49, -3.14452644e+49,\n",
       "         1.00191767e+50,  1.50215483e+50, -1.94605630e+50,\n",
       "        -1.44464880e+49,  1.26673951e+49, -8.68483478e+48,\n",
       "        -1.21893310e+47],\n",
       "       [-3.44320720e+52,  6.70670166e+48, -1.39472770e+47,\n",
       "         1.56691782e+50, -2.32996506e+49, -2.92556296e+49,\n",
       "         9.32150926e+49,  1.39755496e+50, -1.81054615e+50,\n",
       "        -1.34405326e+49,  1.17853237e+49, -8.08008183e+48,\n",
       "        -1.13405487e+47],\n",
       "       [-3.41067747e+52,  6.64334005e+48, -1.38155100e+47,\n",
       "         1.55211436e+50, -2.30795269e+49, -2.89792368e+49,\n",
       "         9.23344423e+49,  1.38435155e+50, -1.79344100e+50,\n",
       "        -1.33135531e+49,  1.16739817e+49, -8.00374520e+48,\n",
       "        -1.12334088e+47],\n",
       "       [-3.34548914e+52,  6.51636578e+48, -1.35514540e+47,\n",
       "         1.52244877e+50, -2.26384076e+49, -2.84253562e+49,\n",
       "         9.05696526e+49,  1.35789242e+50, -1.75916294e+50,\n",
       "        -1.30590909e+49,  1.14508567e+49, -7.85076949e+48,\n",
       "        -1.10187045e+47],\n",
       "       [-3.16425571e+52,  6.16335811e+48, -1.28173381e+47,\n",
       "         1.43997395e+50, -2.14120289e+49, -2.68854842e+49,\n",
       "         8.56632702e+49,  1.28433202e+50, -1.66386472e+50,\n",
       "        -1.23516476e+49,  1.08305355e+49, -7.42547386e+48,\n",
       "        -1.04217940e+47],\n",
       "       [-3.02021228e+52,  5.88278938e+48, -1.22338666e+47,\n",
       "         1.37442337e+50, -2.04373094e+49, -2.56616017e+49,\n",
       "         8.17637020e+49,  1.22586659e+50, -1.58812218e+50,\n",
       "        -1.17893752e+49,  1.03375072e+49, -7.08745102e+48,\n",
       "        -9.94737250e+46],\n",
       "       [-2.80990520e+52,  5.47315185e+48, -1.13819831e+47,\n",
       "         1.27871786e+50, -1.90141939e+49, -2.38747020e+49,\n",
       "         7.60702328e+49,  1.14050556e+50, -1.47753613e+50,\n",
       "        -1.09684432e+49,  9.61767338e+48, -6.59392904e+48,\n",
       "        -9.25470500e+46],\n",
       "       [-2.78335860e+52,  5.42144421e+48, -1.12744518e+47,\n",
       "         1.26663716e+50, -1.88345571e+49, -2.36491455e+49,\n",
       "         7.53515587e+49,  1.12973062e+50, -1.46357710e+50,\n",
       "        -1.08648187e+49,  9.52681034e+48, -6.53163284e+48,\n",
       "        -9.16727110e+46],\n",
       "       [-2.73016022e+52,  5.31782406e+48, -1.10589630e+47,\n",
       "         1.24242790e+50, -1.84745719e+49, -2.31971390e+49,\n",
       "         7.39113631e+49,  1.10813806e+50, -1.43560372e+50,\n",
       "        -1.06571593e+49,  9.34472426e+48, -6.40679364e+48,\n",
       "        -8.99205690e+46]]), array([-5.12919482e+52, -4.18579259e+52, -4.14624728e+52, -4.06699999e+52,\n",
       "       -3.84668053e+52, -3.67157172e+52, -3.41590839e+52, -3.38363657e+52,\n",
       "       -3.31896507e+52, -3.13916851e+52, -2.99626710e+52, -2.78762740e+52,\n",
       "       -2.76129127e+52, -2.70851466e+52]))\n",
       "           fun: -5.129194817873299e+52\n",
       "       message: 'Maximum number of iterations has been exceeded.'\n",
       "          nfev: 3612\n",
       "           nit: 3000\n",
       "        status: 2\n",
       "       success: False\n",
       "             x: array([-5.17018565e+52,  1.00705217e+49, -2.09426873e+47,  2.35282270e+50,\n",
       "       -3.49858466e+49, -4.39291125e+49,  1.39968148e+50,  2.09851403e+50,\n",
       "       -2.71864549e+50, -2.01817796e+49,  1.76963824e+49, -1.21327358e+49,\n",
       "       -1.70285257e+47])"
      ]
     },
     "execution_count": 40,
     "metadata": {},
     "output_type": "execute_result"
    }
   ],
   "source": [
    "#Проблема в том, что требует много итераций, пока остановились на 3000, можно поменять, но длительность выполнения растет. Для\n",
    "#такого количества факторов нужно очень много итераций, можно попробовать уменьшить количество факторов/увеличить количество\n",
    "#итераций. (пробовали с количество итераций 10000 все равно не сходился л)\n",
    "opt.minimize(errLine_modified, d , args=(x, y), method=\"Nelder-Mead\", options = {'maxiter': 3000})"
   ]
  },
  {
   "cell_type": "markdown",
   "metadata": {},
   "source": [
    "Попробуем сделать регуляризацию типа L2 - добавить к ошибке средний квадрат коэффициентов, чтобы посмотреть какие из них будут зануляться. Они скорее всего не так важны."
   ]
  },
  {
   "cell_type": "markdown",
   "metadata": {},
   "source": [
    "L1: есть существенные ошибки (пример с раком), а есть несушественные, то есть мы присваиваем веса ошибкам разного рода. L2: убирает все незначимые переменные (ставит к-т = 0 перед ними)."
   ]
  },
  {
   "cell_type": "code",
   "execution_count": 61,
   "metadata": {},
   "outputs": [],
   "source": [
    "def errLine_L2(d, x, y):\n",
    "    z =  evalLine(d,x) - y.reshape(x.shape[0],1)\n",
    "    return np.sum(z**2)/x.shape[0] + np.sum(d**2)/d.shape[0] # средняя квадратичная ошибка"
   ]
  },
  {
   "cell_type": "code",
   "execution_count": 42,
   "metadata": {},
   "outputs": [
    {
     "data": {
      "text/plain": [
       " final_simplex: (array([[ 1.04775877,  0.06106993, -0.00022181, -0.15411861,  0.19566098,\n",
       "        -0.04533133, -0.25895213, -0.01425211,  0.23300335,  0.34873945,\n",
       "         0.01499633,  0.04208156, -0.00144489],\n",
       "       [ 1.04777783,  0.06106495, -0.00022178, -0.15415853,  0.19566621,\n",
       "        -0.0452903 , -0.25893093, -0.01418776,  0.23302201,  0.34871559,\n",
       "         0.01499845,  0.04208321, -0.00144492],\n",
       "       [ 1.04781227,  0.06106226, -0.0002217 , -0.1540984 ,  0.19565101,\n",
       "        -0.04535216, -0.25890494, -0.01420952,  0.23297331,  0.34874853,\n",
       "         0.01499816,  0.04208263, -0.00144493],\n",
       "       [ 1.04774564,  0.06106443, -0.00022172, -0.15413765,  0.19564763,\n",
       "        -0.04533873, -0.25896881, -0.01418898,  0.23305026,  0.34874032,\n",
       "         0.01499908,  0.0420758 , -0.00144483],\n",
       "       [ 1.04781181,  0.06106524, -0.00022176, -0.15412391,  0.19565159,\n",
       "        -0.04535347, -0.25894198, -0.01415577,  0.23300465,  0.34873035,\n",
       "         0.01499686,  0.04208184, -0.0014449 ],\n",
       "       [ 1.04777974,  0.06107069, -0.00022183, -0.15411836,  0.19565227,\n",
       "        -0.04533274, -0.25900052, -0.01421715,  0.23298215,  0.3487028 ,\n",
       "         0.01499698,  0.04208189, -0.00144488],\n",
       "       [ 1.04778357,  0.06106635, -0.00022177, -0.15413625,  0.19566841,\n",
       "        -0.04530983, -0.25892221, -0.01418521,  0.23303485,  0.34874963,\n",
       "         0.0149962 ,  0.04208202, -0.00144489],\n",
       "       [ 1.04780797,  0.06106968, -0.00022181, -0.15413172,  0.19565204,\n",
       "        -0.04532112, -0.25898287, -0.01420987,  0.23300799,  0.3487218 ,\n",
       "         0.01499678,  0.04207773, -0.0014448 ],\n",
       "       [ 1.04766851,  0.06106761, -0.00022173, -0.15412694,  0.19565138,\n",
       "        -0.04533902, -0.2589964 , -0.0142006 ,  0.23300436,  0.34875394,\n",
       "         0.01499914,  0.04207567, -0.00144485],\n",
       "       [ 1.04774063,  0.06106755, -0.00022177, -0.15413676,  0.19566629,\n",
       "        -0.04532826, -0.25895469, -0.01420302,  0.23303838,  0.34874319,\n",
       "         0.0149974 ,  0.04208238, -0.00144494],\n",
       "       [ 1.04776571,  0.06107141, -0.0002218 , -0.15414465,  0.19565799,\n",
       "        -0.04534131, -0.25895938, -0.01424568,  0.23301656,  0.34875759,\n",
       "         0.01499652,  0.04207627, -0.00144482],\n",
       "       [ 1.04784365,  0.0610689 , -0.00022182, -0.15413811,  0.19564698,\n",
       "        -0.0453336 , -0.25895825, -0.01419325,  0.23299541,  0.34870928,\n",
       "         0.01499614,  0.04207886, -0.0014448 ],\n",
       "       [ 1.04773027,  0.06106215, -0.00022169, -0.15411564,  0.19567422,\n",
       "        -0.04529341, -0.25892867, -0.01415525,  0.23299974,  0.34878284,\n",
       "         0.01499874,  0.04208105, -0.00144495],\n",
       "       [ 1.04779196,  0.06106295, -0.00022171, -0.15413503,  0.19565218,\n",
       "        -0.04531244, -0.25891557, -0.01420906,  0.23301645,  0.34875593,\n",
       "         0.0149986 ,  0.04207553, -0.0014448 ]]), array([0.36299446, 0.36299446, 0.36299447, 0.36299447, 0.36299447,\n",
       "       0.36299447, 0.36299447, 0.36299447, 0.36299447, 0.36299447,\n",
       "       0.36299447, 0.36299447, 0.36299447, 0.36299447]))\n",
       "           fun: 0.3629944639360124\n",
       "       message: 'Optimization terminated successfully.'\n",
       "          nfev: 4461\n",
       "           nit: 3285\n",
       "        status: 0\n",
       "       success: True\n",
       "             x: array([ 1.04775877,  0.06106993, -0.00022181, -0.15411861,  0.19566098,\n",
       "       -0.04533133, -0.25895213, -0.01425211,  0.23300335,  0.34873945,\n",
       "        0.01499633,  0.04208156, -0.00144489])"
      ]
     },
     "execution_count": 42,
     "metadata": {},
     "output_type": "execute_result"
    }
   ],
   "source": [
    "opt.minimize(errLine_L2, d , args=(x, y), method=\"Nelder-Mead\", options = {'maxiter': 5000}) # maxiter - максимальное количество итераций"
   ]
  },
  {
   "cell_type": "code",
   "execution_count": 43,
   "metadata": {},
   "outputs": [
    {
     "name": "stdout",
     "output_type": "stream",
     "text": [
      "[ 1.048  0.061 -0.    -0.154  0.196 -0.045 -0.259 -0.014  0.233  0.349\n",
      "  0.015  0.042 -0.001]\n"
     ]
    }
   ],
   "source": [
    "np.set_printoptions(suppress=True)\n",
    "d2 = opt.minimize(errLine_L2, d , args=(x, y), method=\"Nelder-Mead\", options = {'maxiter': 5000}).x\n",
    "print (np.round(d2,3)) # оценки к-ов, при которых достигается минимум"
   ]
  },
  {
   "cell_type": "markdown",
   "metadata": {},
   "source": [
    "Значительно снизилось значение константы в данном случае, в остальном значения коэффициентов практически не изменились. Таким образом предыдущая модель в целом была нормальной, будем рассматривать ее поведение на тренировочной/тестовой выборке"
   ]
  },
  {
   "cell_type": "code",
   "execution_count": 62,
   "metadata": {},
   "outputs": [],
   "source": [
    "def experimentLin(p, k ):\n",
    "    x = df[['age','sq_age','male','Russian','school','college','university','town','good_health','work_week','experience','sq_exp']].values\n",
    "    y = df['ln_salary'].values\n",
    "    d0 = fitLin(x, y)\n",
    "    e0 = errLine(d0, x, y)\n",
    "    \n",
    "    ee10 = np.array([0.])\n",
    "    ee11 = np.array([0.])\n",
    "    for j in range(k):\n",
    "        perm = np.random.permutation(x.shape[0])\n",
    "        ii = perm[:int(x.shape[0] * p)]#np.random.randint(0, x.shape[0], int(x.shape[0] * p) )\n",
    "        d1 = fitLin(x[ii], y[ii])\n",
    "        e1 = errLine(d1, x, y)\n",
    "        ee10 += e1[0]\n",
    "        ee11 += e1[1]\n",
    "    print( e0, [ee10 / k, ee11 / k] )"
   ]
  },
  {
   "cell_type": "code",
   "execution_count": 69,
   "metadata": {},
   "outputs": [
    {
     "data": {
      "text/plain": [
       "(1,)"
      ]
     },
     "execution_count": 69,
     "metadata": {},
     "output_type": "execute_result"
    }
   ],
   "source": [
    "ee10 = np.array([0.])\n",
    "ee10.shape"
   ]
  },
  {
   "cell_type": "code",
   "execution_count": 63,
   "metadata": {},
   "outputs": [
    {
     "name": "stdout",
     "output_type": "stream",
     "text": [
      "(872213250339841.0, 4.4691075167557945e+30) [array([8.31964919e+14]), array([4.14568944e+30])]\n"
     ]
    }
   ],
   "source": [
    "experimentLin(0.8,10)"
   ]
  },
  {
   "cell_type": "markdown",
   "metadata": {},
   "source": [
    "Получили примерно такую же квадратичную ошибку, переобучения нет, все хорошо. Модель адекватно описывает состояние на рынке труда на 2016 года. Действительно, можно заметить некую дискриминацию по таким показателям как пол, возраст, состояние здоровья."
   ]
  }
 ],
 "metadata": {
  "kernelspec": {
   "display_name": "Python 3",
   "language": "python",
   "name": "python3"
  },
  "language_info": {
   "codemirror_mode": {
    "name": "ipython",
    "version": 3
   },
   "file_extension": ".py",
   "mimetype": "text/x-python",
   "name": "python",
   "nbconvert_exporter": "python",
   "pygments_lexer": "ipython3",
   "version": "3.7.4"
  }
 },
 "nbformat": 4,
 "nbformat_minor": 2
}
